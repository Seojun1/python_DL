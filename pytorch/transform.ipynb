{
 "cells": [
  {
   "cell_type": "markdown",
   "metadata": {},
   "source": [
    "## 변형 (Transform)\n",
    "데이터는 항상 모델학습에 필요한 형태로 제공되지는 않기 때문에 변형을 통해 데이터를 학습에 적합하게 만들어야 한다\n",
    "\n",
    "### FashionMNIST\n",
    "FashionMNIST 데이터셋의 특징은 PIL Image 형식이며, 정답(label)은 정수(integer)이다\n",
    "\n",
    "학습을 하려면 정규화된 텐서 형태의 특징(feature)과 원-핫 인코딩으로 부호화(encode)된 텐서 형태의 정답이 필요하다\n",
    "\n",
    "이러한 변형을 하기 위해 ToTensor 와 Lambda 를 사용한다"
   ]
  },
  {
   "cell_type": "code",
   "execution_count": 2,
   "metadata": {},
   "outputs": [],
   "source": [
    "import torch\n",
    "from torchvision import datasets\n",
    "from torchvision.transforms import ToTensor, Lambda\n",
    "\n",
    "ds = datasets.FashionMNIST(\n",
    "    root=\"data\",\n",
    "    train=True,\n",
    "    download=True,\n",
    "    transform=ToTensor(),\n",
    "\n",
    "    # Lambda 변형\n",
    "    # 정수를 원-핫 인코딩으로 부호화된 텐서로 바꾸는 함수를 정의\n",
    "    # 크기 10짜리(데이터셋 정답의 개수) 영 텐서(zero tensor)를 만든 후, scatter_를 호출해 주어진 정답 y에 해당하는 인덱스에 value=1을 적용\n",
    "    target_transform=Lambda(lambda y: torch.zeros(10, dtype=torch.float).scatter_(0, torch.tensor(y), value=1))\n",
    ")"
   ]
  },
  {
   "cell_type": "code",
   "execution_count": null,
   "metadata": {},
   "outputs": [],
   "source": []
  }
 ],
 "metadata": {
  "kernelspec": {
   "display_name": "Python 3",
   "language": "python",
   "name": "python3"
  },
  "language_info": {
   "codemirror_mode": {
    "name": "ipython",
    "version": 3
   },
   "file_extension": ".py",
   "mimetype": "text/x-python",
   "name": "python",
   "nbconvert_exporter": "python",
   "pygments_lexer": "ipython3",
   "version": "3.9.15"
  }
 },
 "nbformat": 4,
 "nbformat_minor": 2
}
