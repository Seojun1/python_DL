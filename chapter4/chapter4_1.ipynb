{
 "cells": [
  {
   "cell_type": "markdown",
   "metadata": {},
   "source": [
    "## 훈련 데이터와 시험 데이터\n",
    "\n",
    "기계학습 문제는 훈련 데이터만을 사용하여 학습하면서 최적의 매개변수를 찾는다.\n",
    "\n",
    "이후 시험 데이터를 사용하여 앞서 훈련한 모델의 실력을 평가한다.\n",
    "\n",
    "### 훈련 데이터와 시험 데이터를 나누는 이유\n",
    "1. 범용적으로 모델을 사용할 수 있기 때문이다 (범용 능력을 제대로 평가하기 위해 훈련, 시험 데이터로 분리)\n",
    "\n",
    "## 오버피팅\n",
    "한 데이터셋에만 지나치게 최적화된 상태"
   ]
  },
  {
   "cell_type": "markdown",
   "metadata": {},
   "source": [
    "## 손실 함수\n",
    "### 오차제곱합\n",
    "각 원소의 출력(추정 값)과 정답 레이블(참 값)의 차를 제곱한 후, 그 총합을 구하는 손실함수\n",
    "\n",
    "$$ E = \\frac{1}{2} \\sum_{k} (y_k - t_k)^2 $$\n",
    "\n",
    "- $y_{k}$: 신경망의 출력 (신경망이 추정한 값)\n",
    "- $t_{k}$: 정답 레이블\n",
    "- $k$: 데이터의 차원 수\n",
    "\n"
   ]
  },
  {
   "cell_type": "code",
   "execution_count": 1,
   "metadata": {},
   "outputs": [],
   "source": [
    "import numpy as np\n",
    "\n",
    "# 오차제곱합 구현\n",
    "def sum_squares_error(y, t):\n",
    "    return 0.5 * np.sum((y-t)**2)"
   ]
  },
  {
   "cell_type": "code",
   "execution_count": 2,
   "metadata": {},
   "outputs": [
    {
     "name": "stdout",
     "output_type": "stream",
     "text": [
      "0.09750000000000003\n"
     ]
    }
   ],
   "source": [
    "# 정답은 '2'\n",
    "t = [0, 0, 1, 0, 0, 0, 0, 0, 0, 0]\n",
    "\n",
    "# '2'일 확률이 가장 높다고 추정 (0.6)\n",
    "y = [0.1, 0.05, 0.6, 0.0, 0.05, 0.1, 0.0, 0.1, 0.0, 0.0]\n",
    "\n",
    "answer = sum_squares_error(np.array(y), np.array(t))\n",
    "print(answer)"
   ]
  },
  {
   "cell_type": "markdown",
   "metadata": {},
   "source": [
    "### 교차 엔트로피 오차\n",
    "$$ E = -\\sum_{k} t_{k} \\log(y_{k}) $$\n",
    "\n",
    "- $log$: 밑이 e인 자연로그\n",
    "- $y_{k}$: 신경망의 출력 (신경망이 추정한 값)\n",
    "- $t_{k}$: 정답 레이블, 정답에 해당하는 인덱스의 원소만 1이고 나머지는 0이다 (원-핫 인코딩)\n",
    "\n",
    "\n"
   ]
  },
  {
   "cell_type": "code",
   "execution_count": 4,
   "metadata": {},
   "outputs": [],
   "source": [
    "# 교차 엔트로피 오차 구현\n",
    "def cross_entropy_error(y, t):\n",
    "    delta = 1e-7\n",
    "    return -np.sum(t * np.log(y + delta))   # np.log()함수에 0을 넣으면 마이너스 무한대를 뜻하는 -inf가 됨을 방지하기 위해 delta를 더함"
   ]
  },
  {
   "cell_type": "code",
   "execution_count": 5,
   "metadata": {},
   "outputs": [
    {
     "name": "stdout",
     "output_type": "stream",
     "text": [
      "0.510825457099338\n"
     ]
    }
   ],
   "source": [
    "# 정답은 '2'\n",
    "t = [0, 0, 1, 0, 0, 0, 0, 0, 0, 0]\n",
    "\n",
    "# '2'일 확률이 가장 높다고 추정 (0.6)\n",
    "y = [0.1, 0.05, 0.6, 0.0, 0.05, 0.1, 0.0, 0.1, 0.0, 0.0]\n",
    "\n",
    "answer = cross_entropy_error(np.array(y), np.array(t))\n",
    "print(answer)"
   ]
  }
 ],
 "metadata": {
  "kernelspec": {
   "display_name": "Python 3",
   "language": "python",
   "name": "python3"
  },
  "language_info": {
   "codemirror_mode": {
    "name": "ipython",
    "version": 3
   },
   "file_extension": ".py",
   "mimetype": "text/x-python",
   "name": "python",
   "nbconvert_exporter": "python",
   "pygments_lexer": "ipython3",
   "version": "3.9.15"
  }
 },
 "nbformat": 4,
 "nbformat_minor": 2
}
